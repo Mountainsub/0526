{
 "cells": [
  {
   "cell_type": "markdown",
   "id": "3375575b",
   "metadata": {},
   "source": [
    "### adjustor.pyの使い方の例"
   ]
  },
  {
   "cell_type": "code",
   "execution_count": 6,
   "id": "9af1f69b",
   "metadata": {},
   "outputs": [],
   "source": [
    "import pandas as pd\n",
    "from adjustor import Adjustor"
   ]
  },
  {
   "cell_type": "code",
   "execution_count": 8,
   "id": "2568fa57",
   "metadata": {},
   "outputs": [],
   "source": [
    "#ファイルの読み込み\n",
    "filename = \"./sum.hdf5\"\n",
    "store = pd.HDFStore(filename)\n",
    "df = store['consequence']\n",
    "\n",
    "etfs = df['topix'].astype('float').values\n",
    "navs = df['calc'].astype('float').values\n",
    "times = df['time'].astype('datetime64').values"
   ]
  },
  {
   "cell_type": "code",
   "execution_count": 14,
   "id": "3436ed0f",
   "metadata": {},
   "outputs": [],
   "source": [
    "adjustor = Adjustor()\n",
    "\n",
    "order_flag = False\n",
    "position = 0\n",
    "profits = []\n",
    "adjusted_nav = 0\n",
    "etf_before = 0\n",
    "for etf, nav in zip(etfs, navs):\n",
    "    # 保有量と価格変動に応じた利益を得る\n",
    "    profits.append(position * (etf - etf_before))\n",
    "    \n",
    "    if order_flag:\n",
    "        # 前回計算したNAVが異常値でなかったら\n",
    "        # adjusted_nav_beforeを基準値にスナイパー注文\n",
    "        position = 1 if etf < adjusted_nav else -1\n",
    "    \n",
    "    # navを補正する\n",
    "    order_flag, adjusted_nav = adjustor.feed(etf, nav)\n",
    "    \n",
    "    etf_before = etf\n",
    "    \n",
    "profits = np.asarray(profits)"
   ]
  },
  {
   "cell_type": "code",
   "execution_count": 19,
   "id": "bb93c227",
   "metadata": {},
   "outputs": [
    {
     "data": {
      "text/plain": [
       "[<matplotlib.lines.Line2D at 0x1da64d06af0>]"
      ]
     },
     "execution_count": 19,
     "metadata": {},
     "output_type": "execute_result"
    },
    {
     "data": {
      "image/png": "[encoded data removed]",
      "text/plain": [
       "<Figure size 432x288 with 1 Axes>"
      ]
     },
     "metadata": {
      "needs_background": "light"
     },
     "output_type": "display_data"
    }
   ],
   "source": [
    "from matplotlib import pyplot as plt\n",
    "import japanize_matplotlib\n",
    "\n",
    "plt.xticks(rotation=45)\n",
    "plt.xlabel('時刻')\n",
    "plt.ylabel('利益(円)')\n",
    "plt.plot(times, np.cumsum(profits))"
   ]
  }
 ],
 "metadata": {
  "kernelspec": {
   "display_name": "Python 3 (ipykernel)",
   "language": "python",
   "name": "python3"
  },
  "language_info": {
   "codemirror_mode": {
    "name": "ipython",
    "version": 3
   },
   "file_extension": ".py",
   "mimetype": "text/x-python",
   "name": "python",
   "nbconvert_exporter": "python",
   "pygments_lexer": "ipython3",
   "version": "3.9.9"
  }
 },
 "nbformat": 4,
 "nbformat_minor": 5
}
